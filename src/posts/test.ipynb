{
 "cells": [
  {
   "cell_type": "code",
   "execution_count": 40,
   "metadata": {},
   "outputs": [
    {
     "name": "stdout",
     "output_type": "stream",
     "text": [
      "{'url': '/posts/SpringBoot#使用Jersey建立Restful服务', 'heading': '使用Jersey建立Restful服务', 'content': '主页（模块化设计）文章页css使用其他的remark插件:code titiletoccode-frontmattercode-import', 'level': 2, 'title': 'SpringBoot学习日记', 'description': '记录学习SpringBoot的过程'}\n"
     ]
    }
   ],
   "source": [
    "import commonmark\n",
    "import frontmatter\n",
    "import os\n",
    "files = os.listdir(\"./\")\n",
    "parser = commonmark.Parser()\n",
    "records = []\n",
    "for file in files:\n",
    "    if not os.path.isdir(file):\n",
    "        if file.endswith(\".md\"):\n",
    "            title = file[:-3]\n",
    "            post = frontmatter.load(file)\n",
    "            ast = parser.parse(post.content)\n",
    "            walker = ast.walker()\n",
    "            for node in walker:\n",
    "                if node[0].t == \"heading\":\n",
    "                    cur_heading = node[0].first_child.literal\n",
    "                    cur_level = node[0].level\n",
    "                    if str == cur_heading or str.startswith(\"<\") or str == \"\":\n",
    "                        str = \"\"\n",
    "                    else:\n",
    "                        records.append({\n",
    "                            \"url\": \"/posts/\" + title + \"#\" + cur_heading,\n",
    "                            \"heading\": cur_heading,\n",
    "                            \"content\": str,\n",
    "                            \"level\": cur_level,\n",
    "                            \"title\": post[\"title\"],\n",
    "                            \"description\": post[\"description\"]\n",
    "                        })\n",
    "                        str = \"\"\n",
    "                    # print(node[0].first_child.literal)\n",
    "\n",
    "                elif node[0].t == \"text\":\n",
    "                    str += node[0].literal\n",
    "            # print(post['title'])\n",
    "            # print(post['description'])\n",
    "print(records[0])"
   ]
  },
  {
   "cell_type": "code",
   "execution_count": 39,
   "metadata": {},
   "outputs": [
    {
     "data": {
      "text/plain": [
       "<algoliasearch.responses.IndexingResponse at 0x7f7fa25c0790>"
      ]
     },
     "execution_count": 39,
     "metadata": {},
     "output_type": "execute_result"
    }
   ],
   "source": [
    "from algoliasearch.search_client import SearchClient\n",
    "\n",
    "client = SearchClient.create(\"7DUWWNDT93\", \"d9e8a0273be42ee2c623688ed60abf7e\")\n",
    "\n",
    "# Create a new index and add a record\n",
    "index = client.init_index(\"blog\")\n",
    "# record = [ \n",
    "#     {\"objectID\": 1, \"name\": \"test_record\"},\n",
    "#     {\"objectID\": 2, \"name\": \"test1_record\"},\n",
    "#     {\"objectID\": 3, \"name\": \"test2_record\"},\n",
    "#     {\"objectID\": 4, \"name\": \"test3_record\"},\n",
    "#     {\"objectID\": 5, \"name\": \"test4_record\"},\n",
    "# ]\n",
    "index.save_objects(records, {'autoGenerateObjectIDIfNotExist': True}).wait()\n",
    "\n",
    "# Search the index and print the results\n",
    "# results = index.search(\"dwm\")\n",
    "# print(results[\"hits\"])"
   ]
  }
 ],
 "metadata": {
  "kernelspec": {
   "display_name": "Python 3",
   "language": "python",
   "name": "python3"
  },
  "language_info": {
   "codemirror_mode": {
    "name": "ipython",
    "version": 3
   },
   "file_extension": ".py",
   "mimetype": "text/x-python",
   "name": "python",
   "nbconvert_exporter": "python",
   "pygments_lexer": "ipython3",
   "version": "3.10.9"
  },
  "orig_nbformat": 4,
  "vscode": {
   "interpreter": {
    "hash": "7d6993cb2f9ce9a59d5d7380609d9cb5192a9dedd2735a011418ad9e827eb538"
   }
  }
 },
 "nbformat": 4,
 "nbformat_minor": 2
}
